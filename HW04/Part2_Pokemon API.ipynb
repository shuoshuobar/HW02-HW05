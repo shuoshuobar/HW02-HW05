{
 "cells": [
  {
   "cell_type": "code",
   "execution_count": 24,
   "id": "3131557b-6602-4608-b303-d8bbbb5c92a9",
   "metadata": {},
   "outputs": [],
   "source": [
    "# Question 1: What is the URL to the documentation? (You don't use code for this one)\n",
    "# The URL to the documentation is https://pokeapi.co/docs/v2#pokemon-section."
   ]
  },
  {
   "cell_type": "code",
   "execution_count": 25,
   "id": "ab38dce8-0274-4ade-b20c-5e705b98b109",
   "metadata": {},
   "outputs": [
    {
     "data": {
      "text/plain": [
       "<Response [200]>"
      ]
     },
     "execution_count": 25,
     "metadata": {},
     "output_type": "execute_result"
    }
   ],
   "source": [
    "import requests\n",
    "url = \"https://pokeapi.co/api/v2/pokemon/55\"\n",
    "response = requests.get(url)\n",
    "response"
   ]
  },
  {
   "cell_type": "code",
   "execution_count": 32,
   "id": "a1a1beac-00ad-414d-ac03-8aa75a4cafb9",
   "metadata": {},
   "outputs": [
    {
     "data": {
      "text/plain": [
       "dict_keys(['abilities', 'base_experience', 'cries', 'forms', 'game_indices', 'height', 'held_items', 'id', 'is_default', 'location_area_encounters', 'moves', 'name', 'order', 'past_abilities', 'past_types', 'species', 'sprites', 'stats', 'types', 'weight'])"
      ]
     },
     "execution_count": 32,
     "metadata": {},
     "output_type": "execute_result"
    }
   ],
   "source": [
    "data = response.json() # treat this as json and # convert it to dictionary\n",
    "data\n",
    "data.keys()"
   ]
  },
  {
   "cell_type": "code",
   "execution_count": 14,
   "id": "f340b31c-241b-4036-bb69-f6cf9623fe80",
   "metadata": {},
   "outputs": [],
   "source": [
    "# Question 2: What pokemon has the ID of 55?\n",
    "# Golduck has the ID of 55. "
   ]
  },
  {
   "cell_type": "code",
   "execution_count": 18,
   "id": "7fcfeb46-aef4-47a5-9274-04d35ae1005d",
   "metadata": {},
   "outputs": [
    {
     "name": "stdout",
     "output_type": "stream",
     "text": [
      "The height of Golduck is 17 meters.\n"
     ]
    }
   ],
   "source": [
    "# Question 3: How tall is that pokemon?\n",
    "height = data['height']\n",
    "print(f\"The height of Golduck is {height} meters.\")"
   ]
  },
  {
   "cell_type": "code",
   "execution_count": 56,
   "id": "eb3f5a49-11d7-48df-a762-8ed51ca39514",
   "metadata": {},
   "outputs": [
    {
     "name": "stdout",
     "output_type": "stream",
     "text": [
      "43 versions of Pokémon games have been released.\n"
     ]
    }
   ],
   "source": [
    "# Question 4: How many versions of Pokemon games have been released?\n",
    "import requests\n",
    "url2 = 'https://pokeapi.co/api/v2/version'\n",
    "response2 = requests.get(url2)\n",
    "data2 = response2.json() # treat this as json and # convert it to dictionary\n",
    "data2\n",
    "data2.keys()\n",
    "num_version = data2['count']\n",
    "print(f\"{num_version} versions of Pokémon games have been released.\")"
   ]
  },
  {
   "cell_type": "code",
   "execution_count": 73,
   "id": "e1cd0fe2-3658-4811-b014-f109ac6a1cdb",
   "metadata": {},
   "outputs": [
    {
     "name": "stdout",
     "output_type": "stream",
     "text": [
      "pikachu\n",
      "raichu\n",
      "magnemite\n",
      "magneton\n",
      "voltorb\n",
      "electrode\n",
      "electabuzz\n",
      "jolteon\n",
      "zapdos\n",
      "chinchou\n",
      "lanturn\n",
      "pichu\n",
      "mareep\n",
      "flaaffy\n",
      "ampharos\n",
      "elekid\n",
      "raikou\n",
      "electrike\n",
      "manectric\n",
      "plusle\n",
      "minun\n",
      "shinx\n",
      "luxio\n",
      "luxray\n",
      "pachirisu\n",
      "magnezone\n",
      "electivire\n",
      "rotom\n",
      "blitzle\n",
      "zebstrika\n",
      "emolga\n",
      "joltik\n",
      "galvantula\n",
      "tynamo\n",
      "eelektrik\n",
      "eelektross\n",
      "stunfisk\n",
      "thundurus-incarnate\n",
      "zekrom\n",
      "helioptile\n",
      "heliolisk\n",
      "dedenne\n",
      "charjabug\n",
      "vikavolt\n",
      "togedemaru\n",
      "tapu-koko\n",
      "xurkitree\n",
      "zeraora\n",
      "yamper\n",
      "boltund\n",
      "toxel\n",
      "toxtricity-amped\n",
      "pincurchin\n",
      "morpeko-full-belly\n",
      "dracozolt\n",
      "arctozolt\n",
      "regieleki\n",
      "pawmi\n",
      "pawmo\n",
      "pawmot\n",
      "tadbulb\n",
      "bellibolt\n",
      "wattrel\n",
      "kilowattrel\n",
      "sandy-shocks\n",
      "iron-hands\n",
      "iron-thorns\n",
      "miraidon\n",
      "raging-bolt\n",
      "rotom-heat\n",
      "rotom-wash\n",
      "rotom-frost\n",
      "rotom-fan\n",
      "rotom-mow\n",
      "thundurus-therian\n",
      "ampharos-mega\n",
      "manectric-mega\n",
      "pikachu-rock-star\n",
      "pikachu-belle\n",
      "pikachu-pop-star\n",
      "pikachu-phd\n",
      "pikachu-libre\n",
      "pikachu-cosplay\n",
      "pikachu-original-cap\n",
      "pikachu-hoenn-cap\n",
      "pikachu-sinnoh-cap\n",
      "pikachu-unova-cap\n",
      "pikachu-kalos-cap\n",
      "pikachu-alola-cap\n",
      "raichu-alola\n",
      "geodude-alola\n",
      "graveler-alola\n",
      "golem-alola\n",
      "vikavolt-totem\n",
      "oricorio-pom-pom\n",
      "pikachu-partner-cap\n",
      "togedemaru-totem\n",
      "pikachu-starter\n",
      "pikachu-world-cap\n",
      "toxtricity-low-key\n",
      "morpeko-hangry\n",
      "pikachu-gmax\n",
      "toxtricity-amped-gmax\n",
      "toxtricity-low-key-gmax\n",
      "voltorb-hisui\n",
      "electrode-hisui\n",
      "miraidon-low-power-mode\n",
      "miraidon-drive-mode\n",
      "miraidon-aquatic-mode\n",
      "miraidon-glide-mode\n"
     ]
    }
   ],
   "source": [
    "# Question 5: Print out the name of every electric-type pokemon.\n",
    "import requests\n",
    "url3 = 'https://pokeapi.co/api/v2/type/13'\n",
    "response3 = requests.get(url3)\n",
    "data3 = response3.json()\n",
    "data3\n",
    "data3['pokemon'] # this is a list\n",
    "for name in data3['pokemon']: \n",
    "   print(name['pokemon']['name'])"
   ]
  },
  {
   "cell_type": "code",
   "execution_count": 84,
   "id": "e058a625-fd68-44a5-af72-792c5509506e",
   "metadata": {},
   "outputs": [
    {
     "name": "stdout",
     "output_type": "stream",
     "text": [
      "In Korean, electric-type Pokémon are called: 전기\n"
     ]
    }
   ],
   "source": [
    "# Question 6: What are electric-type Pokemon called in the Korean version of the game? \n",
    "# (i.e. what do they call electric-type pokemon in Korean if not \"electric\")\n",
    "korean_name = None\n",
    "for name in data3['names']:\n",
    "    if name['language']['name'] == 'ko':\n",
    "        korean_name = name['name']\n",
    "        break \n",
    "if korean_name:\n",
    "    print(f\"In Korean, electric-type Pokémon are called: {korean_name}\")\n",
    "else:\n",
    "    print(\"Could not find the Korean name for electric-type Pokémon.\")"
   ]
  },
  {
   "cell_type": "code",
   "execution_count": 87,
   "id": "2fa7cd8c-4015-4601-b78d-39e50f5ad643",
   "metadata": {},
   "outputs": [
    {
     "data": {
      "text/plain": [
       "[{'base_stat': 55,\n",
       "  'effort': 0,\n",
       "  'stat': {'name': 'hp', 'url': 'https://pokeapi.co/api/v2/stat/1/'}},\n",
       " {'base_stat': 55,\n",
       "  'effort': 0,\n",
       "  'stat': {'name': 'attack', 'url': 'https://pokeapi.co/api/v2/stat/2/'}},\n",
       " {'base_stat': 50,\n",
       "  'effort': 0,\n",
       "  'stat': {'name': 'defense', 'url': 'https://pokeapi.co/api/v2/stat/3/'}},\n",
       " {'base_stat': 45,\n",
       "  'effort': 0,\n",
       "  'stat': {'name': 'special-attack',\n",
       "   'url': 'https://pokeapi.co/api/v2/stat/4/'}},\n",
       " {'base_stat': 65,\n",
       "  'effort': 1,\n",
       "  'stat': {'name': 'special-defense',\n",
       "   'url': 'https://pokeapi.co/api/v2/stat/5/'}},\n",
       " {'base_stat': 55,\n",
       "  'effort': 0,\n",
       "  'stat': {'name': 'speed', 'url': 'https://pokeapi.co/api/v2/stat/6/'}}]"
      ]
     },
     "execution_count": 87,
     "metadata": {},
     "output_type": "execute_result"
    }
   ],
   "source": [
    "# Question 7: Who has a higher speed stat, Eevee or Pikachu?\n",
    "import requests\n",
    "\n",
    "# Eevee's Data\n",
    "eevee_url = 'https://pokeapi.co/api/v2/pokemon/eevee'\n",
    "eevee_response = requests.get(eevee_url)\n",
    "eevee_data = eevee_response.json()\n",
    "# Eevee's Speed\n",
    "for stat in eevee_data['stats']:\n",
    "    if stat['stat']['name'] == 'speed':\n",
    "        eevee_speed = stat['base_stat']\n",
    "        break\n",
    "\n",
    "# Pikachu's Data\n",
    "pikachu_url = 'https://pokeapi.co/api/v2/pokemon/pikachu'\n",
    "pikachu_response = requests.get(pikachu_url)\n",
    "pikachu_data = pikachu_response.json()\n",
    "\n",
    "# Pikachu's Speed\n",
    "for stat in pikachu_data['stats']:\n",
    "    if stat['stat']['name'] == 'speed':\n",
    "        pikachu_speed = stat['base_stat']\n",
    "        break\n",
    "\n",
    "# Compare Speed \n",
    "if eevee_speed > pikachu_speed:\n",
    "    print(f\"Eevee has a faster speed.\")\n",
    "elif pikachu_speed > eevee_speed:\n",
    "    print(f\"Pikachu has a faster speed.\")\n",
    "else:\n",
    "    print(f\"Eevee and Pikachu have the same speed.\"\n"
   ]
  }
 ],
 "metadata": {
  "kernelspec": {
   "display_name": "Python 3 (ipykernel)",
   "language": "python",
   "name": "python3"
  },
  "language_info": {
   "codemirror_mode": {
    "name": "ipython",
    "version": 3
   },
   "file_extension": ".py",
   "mimetype": "text/x-python",
   "name": "python",
   "nbconvert_exporter": "python",
   "pygments_lexer": "ipython3",
   "version": "3.11.8"
  }
 },
 "nbformat": 4,
 "nbformat_minor": 5
}
